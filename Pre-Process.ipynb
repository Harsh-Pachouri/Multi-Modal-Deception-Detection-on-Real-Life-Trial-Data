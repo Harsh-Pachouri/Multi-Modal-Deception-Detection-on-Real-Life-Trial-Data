{
 "cells": [
  {
   "cell_type": "code",
   "execution_count": 6,
   "id": "333aa56f",
   "metadata": {},
   "outputs": [
    {
     "name": "stderr",
     "output_type": "stream",
     "text": [
      "[nltk_data] Downloading package punkt to\n",
      "[nltk_data]     C:\\Users\\phars\\AppData\\Roaming\\nltk_data...\n",
      "[nltk_data]   Package punkt is already up-to-date!\n",
      "[nltk_data] Downloading package vader_lexicon to\n",
      "[nltk_data]     C:\\Users\\phars\\AppData\\Roaming\\nltk_data...\n",
      "[nltk_data]   Package vader_lexicon is already up-to-date!\n"
     ]
    },
    {
     "name": "stdout",
     "output_type": "stream",
     "text": [
      "🔍 Extracting facial embeddings for clustering...\n"
     ]
    },
    {
     "name": "stderr",
     "output_type": "stream",
     "text": [
      "  0%|          | 0/61 [00:00<?, ?it/s]"
     ]
    },
    {
     "name": "stderr",
     "output_type": "stream",
     "text": [
      "100%|██████████| 61/61 [01:56<00:00,  1.91s/it]\n",
      "100%|██████████| 60/60 [01:59<00:00,  1.99s/it]\n"
     ]
    },
    {
     "name": "stdout",
     "output_type": "stream",
     "text": [
      "📦 Clustering faces into subjects...\n",
      "✅ Clustering done. Extracting features and saving...\n",
      "✅ Preprocessing complete. Saved to preprocessed_data.pkl\n"
     ]
    }
   ],
   "source": [
    "import os\n",
    "import re\n",
    "import cv2\n",
    "import nltk\n",
    "import librosa\n",
    "import ffmpeg\n",
    "import numpy as np\n",
    "import pandas as pd\n",
    "import face_recognition\n",
    "from tqdm import tqdm\n",
    "from sklearn.cluster import DBSCAN\n",
    "from nltk.sentiment.vader import SentimentIntensityAnalyzer\n",
    "\n",
    "# Download required resources\n",
    "nltk.download('punkt')\n",
    "nltk.download('vader_lexicon')\n",
    "\n",
    "class DeceptionPreprocessor:\n",
    "    def __init__(self, base_path):\n",
    "        self.base_path = base_path\n",
    "        self.annotation_file = os.path.join(base_path, \"Annotation\", \"All_Gestures_Deceptive and Truthful.csv\")\n",
    "        self.video_dirs = {\n",
    "            \"deceptive\": os.path.join(base_path, \"Clips\", \"Deceptive\"),\n",
    "            \"truthful\": os.path.join(base_path, \"Clips\", \"Truthful\")\n",
    "        }\n",
    "        self.transcript_dirs = {\n",
    "            \"deceptive\": os.path.join(base_path, \"Transcription\", \"Deceptive\"),\n",
    "            \"truthful\": os.path.join(base_path, \"Transcription\", \"Truthful\")\n",
    "        }\n",
    "        self.face_embeddings = {}\n",
    "        self.cluster_labels = {}\n",
    "        self.sia = SentimentIntensityAnalyzer()\n",
    "\n",
    "    def preprocess(self):\n",
    "        all_embeddings = []\n",
    "        video_files = []\n",
    "\n",
    "        print(\"🔍 Extracting facial embeddings for clustering...\")\n",
    "        for label, video_dir in self.video_dirs.items():\n",
    "            for file in tqdm(os.listdir(video_dir)):\n",
    "                if not file.endswith('.mp4'):\n",
    "                    continue\n",
    "                video_path = os.path.join(video_dir, file)\n",
    "                embedding = self.extract_face_embedding(video_path)\n",
    "                if embedding is not None:\n",
    "                    all_embeddings.append(embedding)\n",
    "                    video_files.append(file)\n",
    "\n",
    "        print(\"📦 Clustering faces into subjects...\")\n",
    "        cluster_ids = self.cluster_faces(all_embeddings)\n",
    "        for f, cid in zip(video_files, cluster_ids):\n",
    "            self.cluster_labels[f] = f\"subject_{cid}\"\n",
    "\n",
    "        print(\"✅ Clustering done. Extracting features and saving...\")\n",
    "        data = []\n",
    "        for label, video_dir in self.video_dirs.items():\n",
    "            transcript_dir = self.transcript_dirs[label]\n",
    "            for file in os.listdir(video_dir):\n",
    "                if not file.endswith('.mp4'):\n",
    "                    continue\n",
    "\n",
    "                video_path = os.path.join(video_dir, file)\n",
    "                transcript_path = os.path.join(transcript_dir, file.replace('.mp4', '.txt'))\n",
    "                if not os.path.exists(transcript_path):\n",
    "                    continue\n",
    "\n",
    "                subject_id = self.cluster_labels.get(file, \"unknown\")\n",
    "                text_features = self.extract_text_features(transcript_path)\n",
    "                audio_features = self.extract_audio_features(video_path)\n",
    "\n",
    "                data.append({\n",
    "                    \"subject_id\": subject_id,\n",
    "                    \"label\": label,\n",
    "                    \"text_features\": text_features,\n",
    "                    \"audio_features\": audio_features\n",
    "                })\n",
    "\n",
    "        df = pd.DataFrame(data)\n",
    "        df.to_pickle(\"preprocessed_data.pkl\")\n",
    "        print(\"✅ Preprocessing complete. Saved to preprocessed_data.pkl\")\n",
    "\n",
    "    def extract_face_embedding(self, video_path):\n",
    "        try:\n",
    "            vidcap = cv2.VideoCapture(video_path)\n",
    "            success, frame = vidcap.read()\n",
    "            while success:\n",
    "                rgb = cv2.cvtColor(frame, cv2.COLOR_BGR2RGB)\n",
    "                encodings = face_recognition.face_encodings(rgb)\n",
    "                if encodings:\n",
    "                    return encodings[0]\n",
    "                success, frame = vidcap.read()\n",
    "        except Exception as e:\n",
    "            print(f\"⚠️ Error processing {video_path}: {e}\")\n",
    "        return None\n",
    "\n",
    "    def cluster_faces(self, embeddings):\n",
    "        X = np.array(embeddings)\n",
    "        clustering = DBSCAN(metric='euclidean', eps=0.6, min_samples=1).fit(X)\n",
    "        return clustering.labels_\n",
    "\n",
    "    def extract_text_features(self, transcript_path):\n",
    "        with open(transcript_path, 'r', encoding='utf-8', errors='replace') as f:\n",
    "            text = f.read()\n",
    "        sentiment = self.sia.polarity_scores(text)\n",
    "        return sentiment\n",
    "\n",
    "\n",
    "    def extract_audio_features(self, video_path):\n",
    "        try:\n",
    "            audio_path = \"temp_audio.wav\"\n",
    "            (\n",
    "                ffmpeg\n",
    "                .input(video_path)\n",
    "                .output(audio_path, acodec='pcm_s16le', ac=1, ar='16000')\n",
    "                .overwrite_output()\n",
    "                .run(quiet=True)\n",
    "            )\n",
    "            y, sr = librosa.load(audio_path, sr=None)\n",
    "            mfcc = librosa.feature.mfcc(y=y, sr=sr)\n",
    "            return np.mean(mfcc, axis=1)\n",
    "        except Exception as e:\n",
    "            print(f\"⚠️ Audio extraction failed: {e}\")\n",
    "            return np.zeros(13)\n",
    "\n",
    "# === Usage ===\n",
    "base_path = \"Real-life_Deception_Detection_2016\"\n",
    "processor = DeceptionPreprocessor(base_path)\n",
    "processor.preprocess()\n"
   ]
  },
  {
   "cell_type": "code",
   "execution_count": null,
   "id": "305b2a86",
   "metadata": {},
   "outputs": [
    {
     "name": "stdout",
     "output_type": "stream",
     "text": [
      "❌ OpenFace FeatureExtraction binary not found. Please check your installation.\n"
     ]
    }
   ],
   "source": [
    "\n",
    "import subprocess\n",
    "\n",
    "try:\n",
    "    result = subprocess.run([\"FeatureExtraction\", \"-help\"], capture_output=True, text=True)\n",
    "    if result.returncode == 0 or \"OpenFace\" in result.stdout:\n",
    "        print(\"✅ OpenFace is installed and accessible via CLI.\")\n",
    "    else:\n",
    "        print(\"⚠️ FeatureExtraction exists but failed to run properly.\")\n",
    "except FileNotFoundError:\n",
    "    print(\"❌ OpenFace FeatureExtraction binary not found. Please check your installation.\")\n"
   ]
  },
  {
   "cell_type": "code",
   "execution_count": 1,
   "id": "ef562327",
   "metadata": {},
   "outputs": [
    {
     "name": "stderr",
     "output_type": "stream",
     "text": [
      "Command not found\n"
     ]
    },
    {
     "name": "stdout",
     "output_type": "stream",
     "text": [
      "[WinError 2] The system cannot find the file specified: 'OpenFace'\n",
      "d:\\Coding\\Deception Detection\n"
     ]
    },
    {
     "name": "stderr",
     "output_type": "stream",
     "text": [
      "'git' is not recognized as an internal or external command,\n",
      "operable program or batch file.\n",
      "C:\\Users\\phars\\AppData\\Roaming\\Python\\Python310\\site-packages\\IPython\\core\\magics\\osm.py:393: UserWarning: This is now an optional IPython functionality, using bookmarks requires you to install the `pickleshare` library.\n",
      "  bkms = self.shell.db.get('bookmarks', {})\n"
     ]
    },
    {
     "name": "stdout",
     "output_type": "stream",
     "text": [
      "^C\n"
     ]
    },
    {
     "name": "stderr",
     "output_type": "stream",
     "text": [
      "The system cannot find the path specified.\n",
      "'make' is not recognized as an internal or external command,\n",
      "operable program or batch file.\n"
     ]
    }
   ],
   "source": [
    "# Run this in a Colab cell (takes ~8–10 minutes)\n",
    "!sudo apt-get install -y libboost-all-dev cmake libopenblas-dev liblapack-dev libgtk2.0-dev\n",
    "!git clone https://github.com/TadasBaltrusaitis/OpenFace.git\n",
    "%cd OpenFace\n",
    "!bash download_models.sh\n",
    "!cd lib && make\n",
    "!cd .. && make\n"
   ]
  },
  {
   "cell_type": "code",
   "execution_count": null,
   "id": "b1e79492",
   "metadata": {},
   "outputs": [],
   "source": []
  }
 ],
 "metadata": {
  "kernelspec": {
   "display_name": "Python 3",
   "language": "python",
   "name": "python3"
  },
  "language_info": {
   "codemirror_mode": {
    "name": "ipython",
    "version": 3
   },
   "file_extension": ".py",
   "mimetype": "text/x-python",
   "name": "python",
   "nbconvert_exporter": "python",
   "pygments_lexer": "ipython3",
   "version": "3.10.7"
  }
 },
 "nbformat": 4,
 "nbformat_minor": 5
}
